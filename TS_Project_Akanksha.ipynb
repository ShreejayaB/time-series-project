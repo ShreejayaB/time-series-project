{
 "cells": [
  {
   "cell_type": "code",
   "execution_count": 349,
   "metadata": {},
   "outputs": [],
   "source": [
    "import matplotlib.pyplot as plt\n",
    "import numpy as np\n",
    "import pandas as pd\n",
    "\n",
    "from pandas import read_csv\n",
    "from pandas import datetime\n",
    "from matplotlib import pyplot\n",
    "\n",
    "from statsmodels.graphics.tsaplots import plot_acf\n",
    "from statsmodels.graphics.tsaplots import plot_pacf\n",
    "from statsmodels.tsa.vector_ar.var_model import VAR\n"
   ]
  },
  {
   "cell_type": "code",
   "execution_count": 350,
   "metadata": {},
   "outputs": [
    {
     "data": {
      "text/html": [
       "<div>\n",
       "<style scoped>\n",
       "    .dataframe tbody tr th:only-of-type {\n",
       "        vertical-align: middle;\n",
       "    }\n",
       "\n",
       "    .dataframe tbody tr th {\n",
       "        vertical-align: top;\n",
       "    }\n",
       "\n",
       "    .dataframe thead th {\n",
       "        text-align: right;\n",
       "    }\n",
       "</style>\n",
       "<table border=\"1\" class=\"dataframe\">\n",
       "  <thead>\n",
       "    <tr style=\"text-align: right;\">\n",
       "      <th></th>\n",
       "      <th>Date</th>\n",
       "      <th>MedianSoldPrice_AllHomes.California</th>\n",
       "      <th>MedianMortageRate</th>\n",
       "      <th>UnemploymentRate</th>\n",
       "      <th>MedianRentalPrice_AllHomes.California</th>\n",
       "    </tr>\n",
       "  </thead>\n",
       "  <tbody>\n",
       "    <tr>\n",
       "      <th>0</th>\n",
       "      <td>2004-01-31</td>\n",
       "      <td>326752.55</td>\n",
       "      <td>5.02</td>\n",
       "      <td>7.9</td>\n",
       "      <td>NaN</td>\n",
       "    </tr>\n",
       "    <tr>\n",
       "      <th>1</th>\n",
       "      <td>2004-02-29</td>\n",
       "      <td>329501.50</td>\n",
       "      <td>4.94</td>\n",
       "      <td>7.8</td>\n",
       "      <td>NaN</td>\n",
       "    </tr>\n",
       "    <tr>\n",
       "      <th>2</th>\n",
       "      <td>2004-03-31</td>\n",
       "      <td>340125.45</td>\n",
       "      <td>4.74</td>\n",
       "      <td>7.8</td>\n",
       "      <td>NaN</td>\n",
       "    </tr>\n",
       "    <tr>\n",
       "      <th>3</th>\n",
       "      <td>2004-04-30</td>\n",
       "      <td>355329.50</td>\n",
       "      <td>5.16</td>\n",
       "      <td>7.5</td>\n",
       "      <td>NaN</td>\n",
       "    </tr>\n",
       "    <tr>\n",
       "      <th>4</th>\n",
       "      <td>2004-05-31</td>\n",
       "      <td>367818.15</td>\n",
       "      <td>5.64</td>\n",
       "      <td>7.3</td>\n",
       "      <td>NaN</td>\n",
       "    </tr>\n",
       "  </tbody>\n",
       "</table>\n",
       "</div>"
      ],
      "text/plain": [
       "         Date  MedianSoldPrice_AllHomes.California  MedianMortageRate  \\\n",
       "0  2004-01-31                            326752.55               5.02   \n",
       "1  2004-02-29                            329501.50               4.94   \n",
       "2  2004-03-31                            340125.45               4.74   \n",
       "3  2004-04-30                            355329.50               5.16   \n",
       "4  2004-05-31                            367818.15               5.64   \n",
       "\n",
       "   UnemploymentRate  MedianRentalPrice_AllHomes.California  \n",
       "0               7.9                                    NaN  \n",
       "1               7.8                                    NaN  \n",
       "2               7.8                                    NaN  \n",
       "3               7.5                                    NaN  \n",
       "4               7.3                                    NaN  "
      ]
     },
     "execution_count": 350,
     "metadata": {},
     "output_type": "execute_result"
    }
   ],
   "source": [
    "df_var = pd.read_csv('zillow-carlifornia.csv', parse_dates=True, squeeze=True)\n",
    "df_var.head()"
   ]
  },
  {
   "cell_type": "code",
   "execution_count": 351,
   "metadata": {},
   "outputs": [
    {
     "data": {
      "text/html": [
       "<div>\n",
       "<style scoped>\n",
       "    .dataframe tbody tr th:only-of-type {\n",
       "        vertical-align: middle;\n",
       "    }\n",
       "\n",
       "    .dataframe tbody tr th {\n",
       "        vertical-align: top;\n",
       "    }\n",
       "\n",
       "    .dataframe thead th {\n",
       "        text-align: right;\n",
       "    }\n",
       "</style>\n",
       "<table border=\"1\" class=\"dataframe\">\n",
       "  <thead>\n",
       "    <tr style=\"text-align: right;\">\n",
       "      <th></th>\n",
       "      <th>MedianSoldPrice_AllHomes.California</th>\n",
       "      <th>MedianMortageRate</th>\n",
       "      <th>UnemploymentRate</th>\n",
       "    </tr>\n",
       "  </thead>\n",
       "  <tbody>\n",
       "    <tr>\n",
       "      <th>0</th>\n",
       "      <td>326752.55</td>\n",
       "      <td>5.02</td>\n",
       "      <td>7.9</td>\n",
       "    </tr>\n",
       "    <tr>\n",
       "      <th>1</th>\n",
       "      <td>329501.50</td>\n",
       "      <td>4.94</td>\n",
       "      <td>7.8</td>\n",
       "    </tr>\n",
       "    <tr>\n",
       "      <th>2</th>\n",
       "      <td>340125.45</td>\n",
       "      <td>4.74</td>\n",
       "      <td>7.8</td>\n",
       "    </tr>\n",
       "    <tr>\n",
       "      <th>3</th>\n",
       "      <td>355329.50</td>\n",
       "      <td>5.16</td>\n",
       "      <td>7.5</td>\n",
       "    </tr>\n",
       "    <tr>\n",
       "      <th>4</th>\n",
       "      <td>367818.15</td>\n",
       "      <td>5.64</td>\n",
       "      <td>7.3</td>\n",
       "    </tr>\n",
       "  </tbody>\n",
       "</table>\n",
       "</div>"
      ],
      "text/plain": [
       "   MedianSoldPrice_AllHomes.California  MedianMortageRate  UnemploymentRate\n",
       "0                            326752.55               5.02               7.9\n",
       "1                            329501.50               4.94               7.8\n",
       "2                            340125.45               4.74               7.8\n",
       "3                            355329.50               5.16               7.5\n",
       "4                            367818.15               5.64               7.3"
      ]
     },
     "execution_count": 351,
     "metadata": {},
     "output_type": "execute_result"
    }
   ],
   "source": [
    "# Dropping columns MedianRentalPrice_AllHomes.California and Date.\n",
    "# dropped column MedianRentalPrice_AllHomes.California due to a lot of missing values.\n",
    "\n",
    "df_var = df_var.drop(columns = ['MedianRentalPrice_AllHomes.California', 'Date'])\n",
    "df_var.head()"
   ]
  },
  {
   "cell_type": "code",
   "execution_count": 352,
   "metadata": {},
   "outputs": [
    {
     "data": {
      "text/html": [
       "<div>\n",
       "<style scoped>\n",
       "    .dataframe tbody tr th:only-of-type {\n",
       "        vertical-align: middle;\n",
       "    }\n",
       "\n",
       "    .dataframe tbody tr th {\n",
       "        vertical-align: top;\n",
       "    }\n",
       "\n",
       "    .dataframe thead th {\n",
       "        text-align: right;\n",
       "    }\n",
       "</style>\n",
       "<table border=\"1\" class=\"dataframe\">\n",
       "  <thead>\n",
       "    <tr style=\"text-align: right;\">\n",
       "      <th></th>\n",
       "      <th>MedianSoldPrice</th>\n",
       "      <th>MedianMortageRate</th>\n",
       "      <th>UnemploymentRate</th>\n",
       "    </tr>\n",
       "  </thead>\n",
       "  <tbody>\n",
       "    <tr>\n",
       "      <th>0</th>\n",
       "      <td>326752.55</td>\n",
       "      <td>5.02</td>\n",
       "      <td>7.9</td>\n",
       "    </tr>\n",
       "    <tr>\n",
       "      <th>1</th>\n",
       "      <td>329501.50</td>\n",
       "      <td>4.94</td>\n",
       "      <td>7.8</td>\n",
       "    </tr>\n",
       "    <tr>\n",
       "      <th>2</th>\n",
       "      <td>340125.45</td>\n",
       "      <td>4.74</td>\n",
       "      <td>7.8</td>\n",
       "    </tr>\n",
       "    <tr>\n",
       "      <th>3</th>\n",
       "      <td>355329.50</td>\n",
       "      <td>5.16</td>\n",
       "      <td>7.5</td>\n",
       "    </tr>\n",
       "    <tr>\n",
       "      <th>4</th>\n",
       "      <td>367818.15</td>\n",
       "      <td>5.64</td>\n",
       "      <td>7.3</td>\n",
       "    </tr>\n",
       "  </tbody>\n",
       "</table>\n",
       "</div>"
      ],
      "text/plain": [
       "   MedianSoldPrice  MedianMortageRate  UnemploymentRate\n",
       "0        326752.55               5.02               7.9\n",
       "1        329501.50               4.94               7.8\n",
       "2        340125.45               4.74               7.8\n",
       "3        355329.50               5.16               7.5\n",
       "4        367818.15               5.64               7.3"
      ]
     },
     "execution_count": 352,
     "metadata": {},
     "output_type": "execute_result"
    }
   ],
   "source": [
    "# Renaming the columns of the dataframe.\n",
    "\n",
    "df_var.columns = ['MedianSoldPrice', 'MedianMortageRate', 'UnemploymentRate']\n",
    "df_var.head()"
   ]
  },
  {
   "cell_type": "code",
   "execution_count": 353,
   "metadata": {},
   "outputs": [
    {
     "data": {
      "image/png": "[encoded data removed]",
      "text/plain": [
       "<Figure size 432x288 with 1 Axes>"
      ]
     },
     "metadata": {
      "needs_background": "light"
     },
     "output_type": "display_data"
    }
   ],
   "source": [
    "# Line-plot of the unemployment rate\n",
    "\n",
    "UnemploymentRate=df_var.UnemploymentRate\n",
    "pyplot.plot(UnemploymentRate)\n",
    "pyplot.show()"
   ]
  },
  {
   "cell_type": "code",
   "execution_count": 354,
   "metadata": {},
   "outputs": [
    {
     "data": {
      "image/png": "[encoded data removed]",
      "text/plain": [
       "<Figure size 432x288 with 1 Axes>"
      ]
     },
     "metadata": {
      "needs_background": "light"
     },
     "output_type": "display_data"
    }
   ],
   "source": [
    "# Line-plot of the median mortgage price\n",
    "\n",
    "MedianMortageRate=df_var.MedianMortageRate\n",
    "pyplot.plot(MedianMortageRate)\n",
    "pyplot.show()"
   ]
  },
  {
   "cell_type": "code",
   "execution_count": 355,
   "metadata": {},
   "outputs": [
    {
     "data": {
      "image/png": "[encoded data removed]",
      "text/plain": [
       "<Figure size 432x288 with 1 Axes>"
      ]
     },
     "metadata": {
      "needs_background": "light"
     },
     "output_type": "display_data"
    }
   ],
   "source": [
    "# Line-plot of the median sold price\n",
    "\n",
    "MedianSoldPrice=df_var.MedianSoldPrice\n",
    "pyplot.plot(MedianSoldPrice)\n",
    "pyplot.show()"
   ]
  },
  {
   "cell_type": "markdown",
   "metadata": {},
   "source": [
    "# Var Model: MedianSoldPrice vs. MedianMortgageRate"
   ]
  },
  {
   "cell_type": "markdown",
   "metadata": {},
   "source": [
    "### Fitting VAR model to predict MedianSoldPrice with respect to MedianMortgageRate\n",
    "\n"
   ]
  },
  {
   "cell_type": "code",
   "execution_count": 356,
   "metadata": {},
   "outputs": [],
   "source": [
    "#df_var"
   ]
  },
  {
   "cell_type": "code",
   "execution_count": 357,
   "metadata": {},
   "outputs": [],
   "source": [
    "# Test\n",
    "\n",
    "# Leaving the test data \n",
    "#df_var_price_mortgage = df_var.drop(columns = ['UnemploymentRate'])[:144]\n",
    "#df_var_price_mortgage"
   ]
  },
  {
   "cell_type": "code",
   "execution_count": 358,
   "metadata": {},
   "outputs": [
    {
     "data": {
      "text/html": [
       "<div>\n",
       "<style scoped>\n",
       "    .dataframe tbody tr th:only-of-type {\n",
       "        vertical-align: middle;\n",
       "    }\n",
       "\n",
       "    .dataframe tbody tr th {\n",
       "        vertical-align: top;\n",
       "    }\n",
       "\n",
       "    .dataframe thead th {\n",
       "        text-align: right;\n",
       "    }\n",
       "</style>\n",
       "<table border=\"1\" class=\"dataframe\">\n",
       "  <thead>\n",
       "    <tr style=\"text-align: right;\">\n",
       "      <th></th>\n",
       "      <th>MedianSoldPrice</th>\n",
       "      <th>MedianMortageRate</th>\n",
       "    </tr>\n",
       "  </thead>\n",
       "  <tbody>\n",
       "    <tr>\n",
       "      <th>0</th>\n",
       "      <td>326752.55</td>\n",
       "      <td>5.02</td>\n",
       "    </tr>\n",
       "    <tr>\n",
       "      <th>1</th>\n",
       "      <td>329501.50</td>\n",
       "      <td>4.94</td>\n",
       "    </tr>\n",
       "    <tr>\n",
       "      <th>2</th>\n",
       "      <td>340125.45</td>\n",
       "      <td>4.74</td>\n",
       "    </tr>\n",
       "    <tr>\n",
       "      <th>3</th>\n",
       "      <td>355329.50</td>\n",
       "      <td>5.16</td>\n",
       "    </tr>\n",
       "    <tr>\n",
       "      <th>4</th>\n",
       "      <td>367818.15</td>\n",
       "      <td>5.64</td>\n",
       "    </tr>\n",
       "  </tbody>\n",
       "</table>\n",
       "</div>"
      ],
      "text/plain": [
       "   MedianSoldPrice  MedianMortageRate\n",
       "0        326752.55               5.02\n",
       "1        329501.50               4.94\n",
       "2        340125.45               4.74\n",
       "3        355329.50               5.16\n",
       "4        367818.15               5.64"
      ]
     },
     "execution_count": 358,
     "metadata": {},
     "output_type": "execute_result"
    }
   ],
   "source": [
    "# Dropping the column 'UnemploymentRate' to create a new dataframe.\n",
    "# Dividing into train and test set.\n",
    "\n",
    "df_var_price_mortgage = df_var.drop(columns = ['UnemploymentRate'])\n",
    "train = df_var_price_mortgage[:int(0.75*(len(df_var_price_mortgage)))]\n",
    "test = df_var_price_mortgage[int(0.75*(len(df_var_price_mortgage))):]\n",
    "train.head()"
   ]
  },
  {
   "cell_type": "code",
   "execution_count": 359,
   "metadata": {},
   "outputs": [
    {
     "name": "stdout",
     "output_type": "stream",
     "text": [
      "  Summary of Regression Results   \n",
      "==================================\n",
      "Model:                         VAR\n",
      "Method:                        OLS\n",
      "Date:           Tue, 03, Dec, 2019\n",
      "Time:                     18:33:42\n",
      "--------------------------------------------------------------------\n",
      "No. of Equations:         2.00000    BIC:                    14.4898\n",
      "Nobs:                     122.000    HQIC:                   14.4079\n",
      "Log likelihood:          -1215.69    FPE:                1.70982e+06\n",
      "AIC:                      14.3519    Det(Omega_mle):     1.62873e+06\n",
      "--------------------------------------------------------------------\n",
      "Results for equation MedianSoldPrice\n",
      "=======================================================================================\n",
      "                          coefficient       std. error           t-stat            prob\n",
      "---------------------------------------------------------------------------------------\n",
      "const                     5086.547844      3973.170405            1.280           0.200\n",
      "L1.MedianSoldPrice           1.034780         0.021305           48.571           0.000\n",
      "L1.MedianMortageRate     -3659.625473      1551.744076           -2.358           0.018\n",
      "=======================================================================================\n",
      "\n",
      "Results for equation MedianMortageRate\n",
      "=======================================================================================\n",
      "                          coefficient       std. error           t-stat            prob\n",
      "---------------------------------------------------------------------------------------\n",
      "const                       -0.026510         0.098896           -0.268           0.789\n",
      "L1.MedianSoldPrice           0.000002         0.000001            3.494           0.000\n",
      "L1.MedianMortageRate         0.860343         0.038624           22.275           0.000\n",
      "=======================================================================================\n",
      "\n",
      "Correlation matrix of residuals\n",
      "                     MedianSoldPrice  MedianMortageRate\n",
      "MedianSoldPrice             1.000000           0.299895\n",
      "MedianMortageRate           0.299895           1.000000\n",
      "\n",
      "\n",
      "\n"
     ]
    }
   ],
   "source": [
    "# Fitting an AR(1) process\n",
    "    \n",
    "var_model1 = VAR(endog=train)\n",
    "var_model1_fit = var_model1.fit(1)\n",
    "print(var_model1_fit.summary())"
   ]
  },
  {
   "cell_type": "code",
   "execution_count": 360,
   "metadata": {},
   "outputs": [
    {
     "data": {
      "text/plain": [
       "21"
      ]
     },
     "execution_count": 360,
     "metadata": {},
     "output_type": "execute_result"
    }
   ],
   "source": [
    "# test_idx_st is the variable to store the relative index of the to be predicted 'MedianSoldPrice' test data from\n",
    "# the overall test data.\n",
    "\n",
    "test_idx_st = 21\n",
    "test_idx_st\n"
   ]
  },
  {
   "cell_type": "code",
   "execution_count": 361,
   "metadata": {},
   "outputs": [
    {
     "name": "stdout",
     "output_type": "stream",
     "text": [
      "    MedianSoldPrice\n",
      "144          406526\n",
      "145          407076\n",
      "146          407594\n",
      "147          408083\n",
      "148          408544\n",
      "149          408979\n",
      "150          409390\n",
      "151          409780\n",
      "152          410148\n",
      "153          410498\n",
      "154          410829\n",
      "155          411144\n",
      "156          411444\n",
      "157          411728\n",
      "158          412000\n",
      "159          412258\n",
      "160          412504\n",
      "161          412740\n",
      "162          412965\n",
      "163          413180\n"
     ]
    },
    {
     "name": "stderr",
     "output_type": "stream",
     "text": [
      "/usr/local/lib/python3.7/site-packages/statsmodels/base/wrapper.py:35: FutureWarning: y is a deprecated alias for endog, will be removed in version 0.11.0\n",
      "  obj = getattr(results, attr)\n"
     ]
    }
   ],
   "source": [
    "# Predicting the MedianSoldPrice of the test sample.\n",
    "\n",
    "fc = var_model1_fit.forecast(var_model1_fit.y, steps=len(test))\n",
    "cols = df_var_price_mortgage.columns\n",
    "pred = pd.DataFrame(index=test.index,columns=[cols])\n",
    "\n",
    "# test_pred will store the predicted MedianSoldPrice for the test  data which don't have the values of MedianSoldPrice.\n",
    "test_idx = test.index[test_idx_st:]\n",
    "test_pred = pd.DataFrame(index=test_idx,columns=[cols])\n",
    "\n",
    "for j in range(0,2):\n",
    "    for i in range(0, len(fc)):\n",
    "        pred.iloc[i][j] = fc[i][j]\n",
    "        if i >= test_idx_st :\n",
    "            test_pred.iloc[i-test_idx_st][j] = fc[i][j]\n",
    "\n",
    "\n",
    "# Test predictions for MedianSoldPrice are:\n",
    "print(test_pred['MedianSoldPrice'])"
   ]
  },
  {
   "cell_type": "code",
   "execution_count": 362,
   "metadata": {},
   "outputs": [],
   "source": [
    "# print(pred.iloc[:21]['MedianSoldPrice'])\n",
    "# print(test.iloc[:21]['MedianSoldPrice'])\n",
    "#type(pd.Series(pred['MedianSoldPrice'].iloc[:21])\n",
    "#pred['MedianSoldPrice'].squeeze().iloc[:21].tolist()"
   ]
  },
  {
   "cell_type": "code",
   "execution_count": 363,
   "metadata": {},
   "outputs": [
    {
     "name": "stdout",
     "output_type": "stream",
     "text": [
      "14898.27\n"
     ]
    }
   ],
   "source": [
    "# Calculating the rmse on the validation data for AR(1)\n",
    "\n",
    "diff = (pred['MedianSoldPrice'].squeeze().iloc[:21] - test['MedianSoldPrice'].squeeze().iloc[:21])\n",
    "mse = (diff ** 2).mean()\n",
    "rmse = round(np.sqrt(mse), 2)\n",
    "print(rmse)\n"
   ]
  },
  {
   "cell_type": "code",
   "execution_count": 364,
   "metadata": {},
   "outputs": [
    {
     "data": {
      "image/png": "[encoded data removed]",
      "text/plain": [
       "<Figure size 1200x500 with 1 Axes>"
      ]
     },
     "metadata": {
      "needs_background": "light"
     },
     "output_type": "display_data"
    },
    {
     "data": {
      "text/plain": [
       "<Figure size 432x288 with 0 Axes>"
      ]
     },
     "metadata": {},
     "output_type": "display_data"
    }
   ],
   "source": [
    "# Plotting the actual vs. forecast\n",
    "\n",
    "plt.figure(figsize=(12,5), dpi=100)\n",
    "plt.plot(train.MedianSoldPrice, label='training')\n",
    "plt.plot(test.MedianSoldPrice, label='actual')\n",
    "plt.plot(pred.MedianSoldPrice, label='forecast')\n",
    "plt.title('Forecast vs Actuals')\n",
    "plt.legend(loc='upper left', fontsize=8)\n",
    "plt.show()"
   ]
  },
  {
   "cell_type": "code",
   "execution_count": 365,
   "metadata": {},
   "outputs": [
    {
     "name": "stdout",
     "output_type": "stream",
     "text": [
      "  Summary of Regression Results   \n",
      "==================================\n",
      "Model:                         VAR\n",
      "Method:                        OLS\n",
      "Date:           Tue, 03, Dec, 2019\n",
      "Time:                     18:35:24\n",
      "--------------------------------------------------------------------\n",
      "No. of Equations:         2.00000    BIC:                    14.0613\n",
      "Nobs:                     121.000    HQIC:                   13.9240\n",
      "Log likelihood:          -1170.11    FPE:                1.01489e+06\n",
      "AIC:                      13.8302    Det(Omega_mle):         935942.\n",
      "--------------------------------------------------------------------\n",
      "Results for equation MedianSoldPrice\n",
      "=======================================================================================\n",
      "                          coefficient       std. error           t-stat            prob\n",
      "---------------------------------------------------------------------------------------\n",
      "const                     5020.047989      3025.278376            1.659           0.097\n",
      "L1.MedianSoldPrice           1.660889         0.072951           22.767           0.000\n",
      "L1.MedianMortageRate       506.926514      2913.506387            0.174           0.862\n",
      "L2.MedianSoldPrice          -0.662605         0.075625           -8.762           0.000\n",
      "L2.MedianMortageRate     -1365.784225      2849.523148           -0.479           0.632\n",
      "=======================================================================================\n",
      "\n",
      "Results for equation MedianMortageRate\n",
      "=======================================================================================\n",
      "                          coefficient       std. error           t-stat            prob\n",
      "---------------------------------------------------------------------------------------\n",
      "const                       -0.011860         0.098279           -0.121           0.904\n",
      "L1.MedianSoldPrice           0.000005         0.000002            2.235           0.025\n",
      "L1.MedianMortageRate         1.004560         0.094648           10.614           0.000\n",
      "L2.MedianSoldPrice          -0.000004         0.000002           -1.476           0.140\n",
      "L2.MedianMortageRate        -0.133133         0.092570           -1.438           0.150\n",
      "=======================================================================================\n",
      "\n",
      "Correlation matrix of residuals\n",
      "                     MedianSoldPrice  MedianMortageRate\n",
      "MedianSoldPrice             1.000000           0.228665\n",
      "MedianMortageRate           0.228665           1.000000\n",
      "\n",
      "\n",
      "\n"
     ]
    }
   ],
   "source": [
    "# Fitting an AR(2) process\n",
    "    \n",
    "var_model2 = VAR(endog=train)\n",
    "var_model2_fit = var_model2.fit(2)\n",
    "print(var_model2_fit.summary())"
   ]
  },
  {
   "cell_type": "code",
   "execution_count": 366,
   "metadata": {},
   "outputs": [
    {
     "name": "stdout",
     "output_type": "stream",
     "text": [
      "    MedianSoldPrice\n",
      "144          409219\n",
      "145          408805\n",
      "146          408377\n",
      "147          407939\n",
      "148          407496\n",
      "149          407049\n",
      "150          406604\n",
      "151          406161\n",
      "152          405723\n",
      "153          405293\n",
      "154          404871\n",
      "155          404459\n",
      "156          404058\n",
      "157          403668\n",
      "158          403290\n",
      "159          402926\n",
      "160          402574\n",
      "161          402235\n",
      "162          401910\n",
      "163          401598\n"
     ]
    },
    {
     "name": "stderr",
     "output_type": "stream",
     "text": [
      "/usr/local/lib/python3.7/site-packages/statsmodels/base/wrapper.py:35: FutureWarning: y is a deprecated alias for endog, will be removed in version 0.11.0\n",
      "  obj = getattr(results, attr)\n"
     ]
    }
   ],
   "source": [
    "# Predicting the MedianSoldPrice of the test sample.\n",
    "\n",
    "fc = var_model2_fit.forecast(var_model2_fit.y, steps=len(test))\n",
    "cols = df_var_price_mortgage.columns\n",
    "pred = pd.DataFrame(index=test.index,columns=[cols])\n",
    "\n",
    "test_idx = test.index[test_idx_st:]\n",
    "test_pred = pd.DataFrame(index=test_idx,columns=[cols])\n",
    "\n",
    "for j in range(0,2):\n",
    "    for i in range(0, len(fc)):\n",
    "        pred.iloc[i][j] = fc[i][j]\n",
    "        if i >= test_idx_st :\n",
    "            test_pred.iloc[i-test_idx_st][j] = fc[i][j]\n",
    "\n",
    "\n",
    "# Test predictions for MedianSoldPrice are:\n",
    "print(test_pred['MedianSoldPrice'])"
   ]
  },
  {
   "cell_type": "code",
   "execution_count": 367,
   "metadata": {},
   "outputs": [
    {
     "name": "stdout",
     "output_type": "stream",
     "text": [
      "12092.66\n"
     ]
    }
   ],
   "source": [
    "# Calculating the rmse on the validation data for AR(2)\n",
    "\n",
    "diff = (pred['MedianSoldPrice'].squeeze().iloc[:21] - test['MedianSoldPrice'].squeeze().iloc[:21])\n",
    "mse = (diff ** 2).mean()\n",
    "rmse = round(np.sqrt(mse), 2)\n",
    "print(rmse)\n"
   ]
  },
  {
   "cell_type": "code",
   "execution_count": 368,
   "metadata": {},
   "outputs": [
    {
     "data": {
      "image/png": "[encoded data removed]",
      "text/plain": [
       "<Figure size 1200x500 with 1 Axes>"
      ]
     },
     "metadata": {
      "needs_background": "light"
     },
     "output_type": "display_data"
    },
    {
     "data": {
      "text/plain": [
       "<Figure size 432x288 with 0 Axes>"
      ]
     },
     "metadata": {},
     "output_type": "display_data"
    }
   ],
   "source": [
    "# Plotting the actual vs. forecast\n",
    "\n",
    "plt.figure(figsize=(12,5), dpi=100)\n",
    "plt.plot(train.MedianSoldPrice, label='training')\n",
    "plt.plot(test.MedianSoldPrice, label='actual')\n",
    "plt.plot(pred.MedianSoldPrice, label='forecast')\n",
    "plt.title('Forecast vs Actuals')\n",
    "plt.legend(loc='upper left', fontsize=8)\n",
    "plt.show()"
   ]
  },
  {
   "cell_type": "code",
   "execution_count": 369,
   "metadata": {},
   "outputs": [
    {
     "name": "stdout",
     "output_type": "stream",
     "text": [
      "  Summary of Regression Results   \n",
      "==================================\n",
      "Model:                         VAR\n",
      "Method:                        OLS\n",
      "Date:           Tue, 03, Dec, 2019\n",
      "Time:                     18:35:58\n",
      "--------------------------------------------------------------------\n",
      "No. of Equations:         2.00000    BIC:                    14.1272\n",
      "Nobs:                     120.000    HQIC:                   13.9340\n",
      "Log likelihood:          -1154.66    FPE:                    986815.\n",
      "AIC:                      13.8020    Det(Omega_mle):         881030.\n",
      "--------------------------------------------------------------------\n",
      "Results for equation MedianSoldPrice\n",
      "=======================================================================================\n",
      "                          coefficient       std. error           t-stat            prob\n",
      "---------------------------------------------------------------------------------------\n",
      "const                     3762.435434      2987.770325            1.259           0.208\n",
      "L1.MedianSoldPrice           1.802061         0.094977           18.974           0.000\n",
      "L1.MedianMortageRate       743.610199      2863.587042            0.260           0.795\n",
      "L2.MedianSoldPrice          -0.988632         0.171284           -5.772           0.000\n",
      "L2.MedianMortageRate     -4797.185914      4034.367633           -1.189           0.234\n",
      "L3.MedianSoldPrice           0.195786         0.096854            2.021           0.043\n",
      "L3.MedianMortageRate      2590.361797      2805.004375            0.923           0.356\n",
      "=======================================================================================\n",
      "\n",
      "Results for equation MedianMortageRate\n",
      "=======================================================================================\n",
      "                          coefficient       std. error           t-stat            prob\n",
      "---------------------------------------------------------------------------------------\n",
      "const                       -0.030110         0.099232           -0.303           0.762\n",
      "L1.MedianSoldPrice           0.000005         0.000003            1.727           0.084\n",
      "L1.MedianMortageRate         1.027082         0.095108           10.799           0.000\n",
      "L2.MedianSoldPrice          -0.000002         0.000006           -0.438           0.661\n",
      "L2.MedianMortageRate        -0.308721         0.133993           -2.304           0.021\n",
      "L3.MedianSoldPrice          -0.000001         0.000003           -0.463           0.643\n",
      "L3.MedianMortageRate         0.172576         0.093162            1.852           0.064\n",
      "=======================================================================================\n",
      "\n",
      "Correlation matrix of residuals\n",
      "                     MedianSoldPrice  MedianMortageRate\n",
      "MedianSoldPrice             1.000000           0.234600\n",
      "MedianMortageRate           0.234600           1.000000\n",
      "\n",
      "\n",
      "\n"
     ]
    }
   ],
   "source": [
    "# Fitting an AR(3) process\n",
    "    \n",
    "var_model3 = VAR(endog=train)\n",
    "var_model3_fit = var_model3.fit(3)\n",
    "print(var_model3_fit.summary())"
   ]
  },
  {
   "cell_type": "code",
   "execution_count": 370,
   "metadata": {},
   "outputs": [
    {
     "name": "stdout",
     "output_type": "stream",
     "text": [
      "    MedianSoldPrice\n",
      "144          413131\n",
      "145          413089\n",
      "146          413013\n",
      "147          412908\n",
      "148          412776\n",
      "149          412619\n",
      "150          412442\n",
      "151          412246\n",
      "152          412034\n",
      "153          411808\n",
      "154          411570\n",
      "155          411322\n",
      "156          411065\n",
      "157          410801\n",
      "158          410531\n",
      "159          410257\n",
      "160          409980\n",
      "161          409701\n",
      "162          409420\n",
      "163          409140\n"
     ]
    },
    {
     "name": "stderr",
     "output_type": "stream",
     "text": [
      "/usr/local/lib/python3.7/site-packages/statsmodels/base/wrapper.py:35: FutureWarning: y is a deprecated alias for endog, will be removed in version 0.11.0\n",
      "  obj = getattr(results, attr)\n"
     ]
    }
   ],
   "source": [
    "# Predicting the MedianSoldPrice of the test sample.\n",
    "\n",
    "fc = var_model3_fit.forecast(var_model3_fit.y, steps=len(test))\n",
    "cols = df_var_price_mortgage.columns\n",
    "pred = pd.DataFrame(index=test.index,columns=[cols])\n",
    "\n",
    "# test_pred will store the MedianSoldPrice for the test sample data which don't have the values for MedianSoldPrice.\n",
    "test_idx = test.index[test_idx_st:]\n",
    "test_pred = pd.DataFrame(index=test_idx,columns=[cols])\n",
    "\n",
    "for j in range(0,2):\n",
    "    for i in range(0, len(fc)):\n",
    "        pred.iloc[i][j] = fc[i][j]\n",
    "        if i >= test_idx_st :\n",
    "            test_pred.iloc[i-test_idx_st][j] = fc[i][j]\n",
    "\n",
    "\n",
    "# Test predictions for MedianSoldPrice are:\n",
    "print(test_pred['MedianSoldPrice'])"
   ]
  },
  {
   "cell_type": "code",
   "execution_count": 371,
   "metadata": {},
   "outputs": [
    {
     "name": "stdout",
     "output_type": "stream",
     "text": [
      "11014.36\n"
     ]
    }
   ],
   "source": [
    "# Calculating the rmse on the validation data for AR(3)\n",
    "\n",
    "diff = (pred['MedianSoldPrice'].squeeze().iloc[:21] - test['MedianSoldPrice'].squeeze().iloc[:21])\n",
    "mse = (diff ** 2).mean()\n",
    "rmse = round(np.sqrt(mse), 2)\n",
    "print(rmse)\n"
   ]
  },
  {
   "cell_type": "code",
   "execution_count": 372,
   "metadata": {},
   "outputs": [
    {
     "data": {
      "image/png": "[encoded data removed]",
      "text/plain": [
       "<Figure size 1200x500 with 1 Axes>"
      ]
     },
     "metadata": {
      "needs_background": "light"
     },
     "output_type": "display_data"
    },
    {
     "data": {
      "text/plain": [
       "<Figure size 432x288 with 0 Axes>"
      ]
     },
     "metadata": {},
     "output_type": "display_data"
    }
   ],
   "source": [
    "# Plotting the actual vs. forecast\n",
    "\n",
    "plt.figure(figsize=(12,5), dpi=100)\n",
    "plt.plot(train.MedianSoldPrice, label='training')\n",
    "plt.plot(test.MedianSoldPrice, label='actual')\n",
    "plt.plot(pred.MedianSoldPrice, label='forecast')\n",
    "plt.title('Forecast vs Actuals')\n",
    "plt.legend(loc='upper left', fontsize=8)\n",
    "plt.show()"
   ]
  },
  {
   "cell_type": "markdown",
   "metadata": {},
   "source": [
    "# Var Model: MedianSoldPrice vs. UnemploymentRate"
   ]
  },
  {
   "cell_type": "markdown",
   "metadata": {},
   "source": [
    "### Fitting VAR model to predict MedianSoldPrice with respect to UnemploymentRate\n",
    "\n"
   ]
  },
  {
   "cell_type": "code",
   "execution_count": 329,
   "metadata": {},
   "outputs": [
    {
     "data": {
      "text/html": [
       "<div>\n",
       "<style scoped>\n",
       "    .dataframe tbody tr th:only-of-type {\n",
       "        vertical-align: middle;\n",
       "    }\n",
       "\n",
       "    .dataframe tbody tr th {\n",
       "        vertical-align: top;\n",
       "    }\n",
       "\n",
       "    .dataframe thead th {\n",
       "        text-align: right;\n",
       "    }\n",
       "</style>\n",
       "<table border=\"1\" class=\"dataframe\">\n",
       "  <thead>\n",
       "    <tr style=\"text-align: right;\">\n",
       "      <th></th>\n",
       "      <th>MedianSoldPrice</th>\n",
       "      <th>UnemploymentRate</th>\n",
       "    </tr>\n",
       "  </thead>\n",
       "  <tbody>\n",
       "    <tr>\n",
       "      <th>0</th>\n",
       "      <td>326752.55</td>\n",
       "      <td>7.9</td>\n",
       "    </tr>\n",
       "    <tr>\n",
       "      <th>1</th>\n",
       "      <td>329501.50</td>\n",
       "      <td>7.8</td>\n",
       "    </tr>\n",
       "    <tr>\n",
       "      <th>2</th>\n",
       "      <td>340125.45</td>\n",
       "      <td>7.8</td>\n",
       "    </tr>\n",
       "    <tr>\n",
       "      <th>3</th>\n",
       "      <td>355329.50</td>\n",
       "      <td>7.5</td>\n",
       "    </tr>\n",
       "    <tr>\n",
       "      <th>4</th>\n",
       "      <td>367818.15</td>\n",
       "      <td>7.3</td>\n",
       "    </tr>\n",
       "  </tbody>\n",
       "</table>\n",
       "</div>"
      ],
      "text/plain": [
       "   MedianSoldPrice  UnemploymentRate\n",
       "0        326752.55               7.9\n",
       "1        329501.50               7.8\n",
       "2        340125.45               7.8\n",
       "3        355329.50               7.5\n",
       "4        367818.15               7.3"
      ]
     },
     "execution_count": 329,
     "metadata": {},
     "output_type": "execute_result"
    }
   ],
   "source": [
    "# Dropping the column 'MedianMortageRate' to create a new dataframe.\n",
    "# Dividing into train and test set.\n",
    "\n",
    "df_var_price_unemployment = df_var.drop(columns = ['MedianMortageRate'])\n",
    "train = df_var_price_unemployment[:int(0.75*(len(df_var_price_unemployment)))]\n",
    "test = df_var_price_unemployment[int(0.75*(len(df_var_price_unemployment))):]\n",
    "train.head()"
   ]
  },
  {
   "cell_type": "code",
   "execution_count": 330,
   "metadata": {},
   "outputs": [
    {
     "name": "stdout",
     "output_type": "stream",
     "text": [
      "  Summary of Regression Results   \n",
      "==================================\n",
      "Model:                         VAR\n",
      "Method:                        OLS\n",
      "Date:           Tue, 03, Dec, 2019\n",
      "Time:                     18:00:32\n",
      "--------------------------------------------------------------------\n",
      "No. of Equations:         2.00000    BIC:                    16.5626\n",
      "Nobs:                     122.000    HQIC:                   16.4807\n",
      "Log likelihood:          -1342.13    FPE:                1.35877e+07\n",
      "AIC:                      16.4247    Det(Omega_mle):     1.29433e+07\n",
      "--------------------------------------------------------------------\n",
      "Results for equation MedianSoldPrice\n",
      "======================================================================================\n",
      "                         coefficient       std. error           t-stat            prob\n",
      "--------------------------------------------------------------------------------------\n",
      "const                  -26376.342285     11671.101048           -2.260           0.024\n",
      "L1.MedianSoldPrice          1.017384         0.014046           72.434           0.000\n",
      "L1.UnemploymentRate      2866.694264      1040.777203            2.754           0.006\n",
      "======================================================================================\n",
      "\n",
      "Results for equation UnemploymentRate\n",
      "======================================================================================\n",
      "                         coefficient       std. error           t-stat            prob\n",
      "--------------------------------------------------------------------------------------\n",
      "const                       4.228514         0.794764            5.320           0.000\n",
      "L1.MedianSoldPrice         -0.000004         0.000001           -3.979           0.000\n",
      "L1.UnemploymentRate         0.604022         0.070874            8.523           0.000\n",
      "======================================================================================\n",
      "\n",
      "Correlation matrix of residuals\n",
      "                    MedianSoldPrice  UnemploymentRate\n",
      "MedianSoldPrice            1.000000         -0.045414\n",
      "UnemploymentRate          -0.045414          1.000000\n",
      "\n",
      "\n",
      "\n"
     ]
    }
   ],
   "source": [
    "# Fitting an AR(1) process\n",
    "    \n",
    "var_model1 = VAR(endog=train)\n",
    "var_model1_fit = var_model1.fit(1)\n",
    "print(var_model1_fit.summary())"
   ]
  },
  {
   "cell_type": "code",
   "execution_count": 331,
   "metadata": {},
   "outputs": [
    {
     "name": "stdout",
     "output_type": "stream",
     "text": [
      "    MedianSoldPrice\n",
      "144          388442\n",
      "145          388750\n",
      "146          389055\n",
      "147          389356\n",
      "148          389653\n",
      "149          389948\n",
      "150          390239\n",
      "151          390527\n",
      "152          390812\n",
      "153          391094\n",
      "154          391373\n",
      "155          391649\n",
      "156          391921\n",
      "157          392191\n",
      "158          392458\n",
      "159          392721\n",
      "160          392982\n",
      "161          393240\n",
      "162          393496\n",
      "163          393748\n"
     ]
    },
    {
     "name": "stderr",
     "output_type": "stream",
     "text": [
      "/usr/local/lib/python3.7/site-packages/statsmodels/base/wrapper.py:35: FutureWarning: y is a deprecated alias for endog, will be removed in version 0.11.0\n",
      "  obj = getattr(results, attr)\n"
     ]
    }
   ],
   "source": [
    "# Predicting the MedianSoldPrice of the test sample.\n",
    "\n",
    "fc = var_model1_fit.forecast(var_model1_fit.y, steps=len(test))\n",
    "cols = df_var_price_unemployment.columns\n",
    "pred = pd.DataFrame(index=test.index,columns=[cols])\n",
    "\n",
    "# test_pred will store the MedianSoldPrice for the test sample data which don't have the values for MedianSoldPrice.\n",
    "test_idx = test.index[test_idx_st:]\n",
    "test_pred = pd.DataFrame(index=test_idx,columns=[cols])\n",
    "\n",
    "for j in range(0,2):\n",
    "    for i in range(0, len(fc)):\n",
    "        pred.iloc[i][j] = fc[i][j]\n",
    "        if i >= test_idx_st :\n",
    "            test_pred.iloc[i-test_idx_st][j] = fc[i][j]\n",
    "\n",
    "\n",
    "# Test predictions for MedianSoldPrice are:\n",
    "print(test_pred['MedianSoldPrice'])"
   ]
  },
  {
   "cell_type": "code",
   "execution_count": 332,
   "metadata": {},
   "outputs": [
    {
     "name": "stdout",
     "output_type": "stream",
     "text": [
      "25270.26\n"
     ]
    }
   ],
   "source": [
    "# Calculating the rmse on the validation data for AR(1)\n",
    "\n",
    "diff = (pred['MedianSoldPrice'].squeeze().iloc[:21] - test['MedianSoldPrice'].squeeze().iloc[:21])\n",
    "mse = (diff ** 2).mean()\n",
    "rmse = round(np.sqrt(mse), 2)\n",
    "print(rmse)\n"
   ]
  },
  {
   "cell_type": "code",
   "execution_count": 333,
   "metadata": {},
   "outputs": [
    {
     "data": {
      "image/png": "[encoded data removed]",
      "text/plain": [
       "<Figure size 1200x500 with 1 Axes>"
      ]
     },
     "metadata": {
      "needs_background": "light"
     },
     "output_type": "display_data"
    }
   ],
   "source": [
    "# Plotting the actual vs. forecast\n",
    "\n",
    "plt.figure(figsize=(12,5), dpi=100)\n",
    "plt.plot(train.MedianSoldPrice, label='training')\n",
    "plt.plot(test.MedianSoldPrice, label='actual')\n",
    "plt.plot(pred.MedianSoldPrice, label='forecast')\n",
    "plt.title('Forecast vs Actuals')\n",
    "plt.legend(loc='upper left', fontsize=8)\n",
    "plt.show()"
   ]
  },
  {
   "cell_type": "code",
   "execution_count": 334,
   "metadata": {},
   "outputs": [
    {
     "name": "stdout",
     "output_type": "stream",
     "text": [
      "  Summary of Regression Results   \n",
      "==================================\n",
      "Model:                         VAR\n",
      "Method:                        OLS\n",
      "Date:           Tue, 03, Dec, 2019\n",
      "Time:                     18:00:33\n",
      "--------------------------------------------------------------------\n",
      "No. of Equations:         2.00000    BIC:                    16.1383\n",
      "Nobs:                     121.000    HQIC:                   16.0011\n",
      "Log likelihood:          -1295.77    FPE:                8.09985e+06\n",
      "AIC:                      15.9073    Det(Omega_mle):     7.46976e+06\n",
      "--------------------------------------------------------------------\n",
      "Results for equation MedianSoldPrice\n",
      "======================================================================================\n",
      "                         coefficient       std. error           t-stat            prob\n",
      "--------------------------------------------------------------------------------------\n",
      "const                  -11549.283251      9911.837229           -1.165           0.244\n",
      "L1.MedianSoldPrice          1.649676         0.069641           23.688           0.000\n",
      "L1.UnemploymentRate       571.317974      1014.919851            0.563           0.573\n",
      "L2.MedianSoldPrice         -0.647358         0.071541           -9.049           0.000\n",
      "L2.UnemploymentRate       968.764406      1019.845291            0.950           0.342\n",
      "======================================================================================\n",
      "\n",
      "Results for equation UnemploymentRate\n",
      "======================================================================================\n",
      "                         coefficient       std. error           t-stat            prob\n",
      "--------------------------------------------------------------------------------------\n",
      "const                       4.453078         0.906783            4.911           0.000\n",
      "L1.MedianSoldPrice         -0.000001         0.000006           -0.191           0.849\n",
      "L1.UnemploymentRate         0.623246         0.092850            6.712           0.000\n",
      "L2.MedianSoldPrice         -0.000003         0.000007           -0.426           0.670\n",
      "L2.UnemploymentRate        -0.040779         0.093300           -0.437           0.662\n",
      "======================================================================================\n",
      "\n",
      "Correlation matrix of residuals\n",
      "                    MedianSoldPrice  UnemploymentRate\n",
      "MedianSoldPrice            1.000000         -0.084448\n",
      "UnemploymentRate          -0.084448          1.000000\n",
      "\n",
      "\n",
      "\n"
     ]
    }
   ],
   "source": [
    "# Fitting an AR(2) process\n",
    "    \n",
    "var_model2 = VAR(endog=train)\n",
    "var_model2_fit = var_model2.fit(2)\n",
    "print(var_model2_fit.summary())"
   ]
  },
  {
   "cell_type": "code",
   "execution_count": 335,
   "metadata": {},
   "outputs": [
    {
     "name": "stdout",
     "output_type": "stream",
     "text": [
      "    MedianSoldPrice\n",
      "144          400966\n",
      "145          400567\n",
      "146          400180\n",
      "147          399807\n",
      "148          399446\n",
      "149          399100\n",
      "150          398768\n",
      "151          398449\n",
      "152          398144\n",
      "153          397853\n",
      "154          397574\n",
      "155          397308\n",
      "156          397054\n",
      "157          396812\n",
      "158          396582\n",
      "159          396362\n",
      "160          396152\n",
      "161          395952\n",
      "162          395762\n",
      "163          395581\n"
     ]
    },
    {
     "name": "stderr",
     "output_type": "stream",
     "text": [
      "/usr/local/lib/python3.7/site-packages/statsmodels/base/wrapper.py:35: FutureWarning: y is a deprecated alias for endog, will be removed in version 0.11.0\n",
      "  obj = getattr(results, attr)\n"
     ]
    }
   ],
   "source": [
    "# Predicting the MedianSoldPrice of the test sample.\n",
    "\n",
    "fc = var_model2_fit.forecast(var_model2_fit.y, steps=len(test))\n",
    "cols = df_var_price_unemployment.columns\n",
    "pred = pd.DataFrame(index=test.index,columns=[cols])\n",
    "\n",
    "# test_pred will store the MedianSoldPrice for the test sample data which don't have the values for MedianSoldPrice.\n",
    "test_idx = test.index[test_idx_st:]\n",
    "test_pred = pd.DataFrame(index=test_idx,columns=[cols])\n",
    "\n",
    "for j in range(0,2):\n",
    "    for i in range(0, len(fc)):\n",
    "        pred.iloc[i][j] = fc[i][j]\n",
    "        if i >= test_idx_st :\n",
    "            test_pred.iloc[i-test_idx_st][j] = fc[i][j]\n",
    "\n",
    "\n",
    "# Test predictions for MedianSoldPrice are:\n",
    "print(test_pred['MedianSoldPrice'])"
   ]
  },
  {
   "cell_type": "code",
   "execution_count": 336,
   "metadata": {},
   "outputs": [
    {
     "name": "stdout",
     "output_type": "stream",
     "text": [
      "14110.99\n"
     ]
    }
   ],
   "source": [
    "# Calculating the rmse on the validation data for AR(2)\n",
    "\n",
    "diff = (pred['MedianSoldPrice'].squeeze().iloc[:21] - test['MedianSoldPrice'].squeeze().iloc[:21])\n",
    "mse = (diff ** 2).mean()\n",
    "rmse = round(np.sqrt(mse), 2)\n",
    "print(rmse)\n"
   ]
  },
  {
   "cell_type": "code",
   "execution_count": 337,
   "metadata": {},
   "outputs": [
    {
     "data": {
      "image/png": "[encoded data removed]",
      "text/plain": [
       "<Figure size 1200x500 with 1 Axes>"
      ]
     },
     "metadata": {
      "needs_background": "light"
     },
     "output_type": "display_data"
    }
   ],
   "source": [
    "# Plotting the actual vs. forecast\n",
    "\n",
    "plt.figure(figsize=(12,5), dpi=100)\n",
    "plt.plot(train.MedianSoldPrice, label='training')\n",
    "plt.plot(test.MedianSoldPrice, label='actual')\n",
    "plt.plot(pred.MedianSoldPrice, label='forecast')\n",
    "plt.title('Forecast vs Actuals')\n",
    "plt.legend(loc='upper left', fontsize=8)\n",
    "plt.show()"
   ]
  },
  {
   "cell_type": "code",
   "execution_count": 338,
   "metadata": {},
   "outputs": [
    {
     "name": "stdout",
     "output_type": "stream",
     "text": [
      "  Summary of Regression Results   \n",
      "==================================\n",
      "Model:                         VAR\n",
      "Method:                        OLS\n",
      "Date:           Tue, 03, Dec, 2019\n",
      "Time:                     18:00:33\n",
      "--------------------------------------------------------------------\n",
      "No. of Equations:         2.00000    BIC:                    16.2222\n",
      "Nobs:                     120.000    HQIC:                   16.0290\n",
      "Log likelihood:          -1280.36    FPE:                8.01831e+06\n",
      "AIC:                      15.8970    Det(Omega_mle):     7.15877e+06\n",
      "--------------------------------------------------------------------\n",
      "Results for equation MedianSoldPrice\n",
      "======================================================================================\n",
      "                         coefficient       std. error           t-stat            prob\n",
      "--------------------------------------------------------------------------------------\n",
      "const                  -14629.628856     10721.737404           -1.364           0.172\n",
      "L1.MedianSoldPrice          1.794687         0.093484           19.198           0.000\n",
      "L1.UnemploymentRate       760.273771      1000.675995            0.760           0.447\n",
      "L2.MedianSoldPrice         -1.002749         0.169225           -5.926           0.000\n",
      "L2.UnemploymentRate       901.191234      1178.828266            0.764           0.445\n",
      "L3.MedianSoldPrice          0.214997         0.093453            2.301           0.021\n",
      "L3.UnemploymentRate        63.285087      1005.700910            0.063           0.950\n",
      "======================================================================================\n",
      "\n",
      "Results for equation UnemploymentRate\n",
      "======================================================================================\n",
      "                         coefficient       std. error           t-stat            prob\n",
      "--------------------------------------------------------------------------------------\n",
      "const                       3.875019         0.999808            3.876           0.000\n",
      "L1.MedianSoldPrice          0.000006         0.000009            0.653           0.514\n",
      "L1.UnemploymentRate         0.636746         0.093314            6.824           0.000\n",
      "L2.MedianSoldPrice         -0.000022         0.000016           -1.372           0.170\n",
      "L2.UnemploymentRate        -0.101443         0.109926           -0.923           0.356\n",
      "L3.MedianSoldPrice          0.000013         0.000009            1.438           0.150\n",
      "L3.UnemploymentRate         0.098582         0.093782            1.051           0.293\n",
      "======================================================================================\n",
      "\n",
      "Correlation matrix of residuals\n",
      "                    MedianSoldPrice  UnemploymentRate\n",
      "MedianSoldPrice            1.000000         -0.118404\n",
      "UnemploymentRate          -0.118404          1.000000\n",
      "\n",
      "\n",
      "\n"
     ]
    }
   ],
   "source": [
    "# Fitting an AR(3) process\n",
    "    \n",
    "var_model3 = VAR(endog=train)\n",
    "var_model3_fit = var_model3.fit(3)\n",
    "print(var_model3_fit.summary())"
   ]
  },
  {
   "cell_type": "code",
   "execution_count": 339,
   "metadata": {},
   "outputs": [
    {
     "name": "stdout",
     "output_type": "stream",
     "text": [
      "    MedianSoldPrice\n",
      "144          398971\n",
      "145          398834\n",
      "146          398701\n",
      "147          398570\n",
      "148          398443\n",
      "149          398319\n",
      "150          398198\n",
      "151          398080\n",
      "152          397965\n",
      "153          397852\n",
      "154          397743\n",
      "155          397636\n",
      "156          397532\n",
      "157          397430\n",
      "158          397331\n",
      "159          397234\n",
      "160          397139\n",
      "161          397047\n",
      "162          396957\n",
      "163          396870\n"
     ]
    },
    {
     "name": "stderr",
     "output_type": "stream",
     "text": [
      "/usr/local/lib/python3.7/site-packages/statsmodels/base/wrapper.py:35: FutureWarning: y is a deprecated alias for endog, will be removed in version 0.11.0\n",
      "  obj = getattr(results, attr)\n"
     ]
    }
   ],
   "source": [
    "# Predicting the MedianSoldPrice of the test sample.\n",
    "\n",
    "fc = var_model3_fit.forecast(var_model3_fit.y, steps=len(test))\n",
    "cols = df_var_price_unemployment.columns\n",
    "pred = pd.DataFrame(index=test.index,columns=[cols])\n",
    "\n",
    "# test_pred will store the MedianSoldPrice for the test sample data which don't have the values for MedianSoldPrice.\n",
    "test_idx = test.index[test_idx_st:]\n",
    "test_pred = pd.DataFrame(index=test_idx,columns=[cols])\n",
    "\n",
    "for j in range(0,2):\n",
    "    for i in range(0, len(fc)):\n",
    "        pred.iloc[i][j] = fc[i][j]\n",
    "        if i >= test_idx_st :\n",
    "            test_pred.iloc[i-test_idx_st][j] = fc[i][j]\n",
    "\n",
    "\n",
    "# Test predictions for MedianSoldPrice are:\n",
    "print(test_pred['MedianSoldPrice'])"
   ]
  },
  {
   "cell_type": "code",
   "execution_count": 340,
   "metadata": {},
   "outputs": [
    {
     "name": "stdout",
     "output_type": "stream",
     "text": [
      "15048.26\n"
     ]
    }
   ],
   "source": [
    "# Calculating the rmse on the validation data for AR(3)\n",
    "\n",
    "diff = (pred['MedianSoldPrice'].squeeze().iloc[:21] - test['MedianSoldPrice'].squeeze().iloc[:21])\n",
    "mse = (diff ** 2).mean()\n",
    "rmse = round(np.sqrt(mse), 2)\n",
    "print(rmse)\n"
   ]
  },
  {
   "cell_type": "code",
   "execution_count": 341,
   "metadata": {},
   "outputs": [
    {
     "data": {
      "image/png": "[encoded data removed]",
      "text/plain": [
       "<Figure size 1200x500 with 1 Axes>"
      ]
     },
     "metadata": {
      "needs_background": "light"
     },
     "output_type": "display_data"
    }
   ],
   "source": [
    "# Plotting the actual vs. forecast\n",
    "\n",
    "plt.figure(figsize=(12,5), dpi=100)\n",
    "plt.plot(train.MedianSoldPrice, label='training')\n",
    "plt.plot(test.MedianSoldPrice, label='actual')\n",
    "plt.plot(pred.MedianSoldPrice, label='forecast')\n",
    "plt.title('Forecast vs Actuals')\n",
    "plt.legend(loc='upper left', fontsize=8)\n",
    "plt.show()"
   ]
  },
  {
   "cell_type": "code",
   "execution_count": null,
   "metadata": {},
   "outputs": [],
   "source": []
  },
  {
   "cell_type": "markdown",
   "metadata": {},
   "source": [
    "# Test"
   ]
  },
  {
   "cell_type": "code",
   "execution_count": 342,
   "metadata": {},
   "outputs": [
    {
     "data": {
      "text/html": [
       "<div>\n",
       "<style scoped>\n",
       "    .dataframe tbody tr th:only-of-type {\n",
       "        vertical-align: middle;\n",
       "    }\n",
       "\n",
       "    .dataframe tbody tr th {\n",
       "        vertical-align: top;\n",
       "    }\n",
       "\n",
       "    .dataframe thead th {\n",
       "        text-align: right;\n",
       "    }\n",
       "</style>\n",
       "<table border=\"1\" class=\"dataframe\">\n",
       "  <thead>\n",
       "    <tr style=\"text-align: right;\">\n",
       "      <th></th>\n",
       "      <th>Date</th>\n",
       "      <th>MedianSoldPrice_AllHomes.California</th>\n",
       "      <th>MedianMortageRate</th>\n",
       "      <th>UnemploymentRate</th>\n",
       "      <th>MedianRentalPrice_AllHomes.California</th>\n",
       "    </tr>\n",
       "  </thead>\n",
       "  <tbody>\n",
       "    <tr>\n",
       "      <th>0</th>\n",
       "      <td>2004-01-31</td>\n",
       "      <td>326752.55</td>\n",
       "      <td>5.02</td>\n",
       "      <td>7.9</td>\n",
       "      <td>NaN</td>\n",
       "    </tr>\n",
       "    <tr>\n",
       "      <th>1</th>\n",
       "      <td>2004-02-29</td>\n",
       "      <td>329501.50</td>\n",
       "      <td>4.94</td>\n",
       "      <td>7.8</td>\n",
       "      <td>NaN</td>\n",
       "    </tr>\n",
       "    <tr>\n",
       "      <th>2</th>\n",
       "      <td>2004-03-31</td>\n",
       "      <td>340125.45</td>\n",
       "      <td>4.74</td>\n",
       "      <td>7.8</td>\n",
       "      <td>NaN</td>\n",
       "    </tr>\n",
       "    <tr>\n",
       "      <th>3</th>\n",
       "      <td>2004-04-30</td>\n",
       "      <td>355329.50</td>\n",
       "      <td>5.16</td>\n",
       "      <td>7.5</td>\n",
       "      <td>NaN</td>\n",
       "    </tr>\n",
       "    <tr>\n",
       "      <th>4</th>\n",
       "      <td>2004-05-31</td>\n",
       "      <td>367818.15</td>\n",
       "      <td>5.64</td>\n",
       "      <td>7.3</td>\n",
       "      <td>NaN</td>\n",
       "    </tr>\n",
       "  </tbody>\n",
       "</table>\n",
       "</div>"
      ],
      "text/plain": [
       "         Date  MedianSoldPrice_AllHomes.California  MedianMortageRate  \\\n",
       "0  2004-01-31                            326752.55               5.02   \n",
       "1  2004-02-29                            329501.50               4.94   \n",
       "2  2004-03-31                            340125.45               4.74   \n",
       "3  2004-04-30                            355329.50               5.16   \n",
       "4  2004-05-31                            367818.15               5.64   \n",
       "\n",
       "   UnemploymentRate  MedianRentalPrice_AllHomes.California  \n",
       "0               7.9                                    NaN  \n",
       "1               7.8                                    NaN  \n",
       "2               7.8                                    NaN  \n",
       "3               7.5                                    NaN  \n",
       "4               7.3                                    NaN  "
      ]
     },
     "execution_count": 342,
     "metadata": {},
     "output_type": "execute_result"
    }
   ],
   "source": [
    "df = pd.read_csv('zillow-carlifornia.csv', parse_dates=True, squeeze=True)\n",
    "#df.drop(columns = [''])\n",
    "df.head()"
   ]
  },
  {
   "cell_type": "code",
   "execution_count": 343,
   "metadata": {},
   "outputs": [
    {
     "data": {
      "text/plain": [
       "[nan,\n",
       " nan,\n",
       " 2450.0,\n",
       " 2410.0,\n",
       " 2400.0,\n",
       " 2400.0,\n",
       " 2400.0,\n",
       " 2495.0,\n",
       " 2500.0,\n",
       " 2600.0,\n",
       " 2495.0,\n",
       " 2400.0,\n",
       " 2300.0,\n",
       " 2400.0]"
      ]
     },
     "execution_count": 343,
     "metadata": {},
     "output_type": "execute_result"
    }
   ],
   "source": [
    "df['MedianRentalPrice_AllHomes.California'].tolist()[70:84]"
   ]
  },
  {
   "cell_type": "code",
   "execution_count": 344,
   "metadata": {},
   "outputs": [],
   "source": [
    "df_test = df[:72]\n",
    "df_val = df[72:90]\n",
    "df_train = df[90:144]"
   ]
  },
  {
   "cell_type": "code",
   "execution_count": 345,
   "metadata": {},
   "outputs": [
    {
     "data": {
      "text/html": [
       "<div>\n",
       "<style scoped>\n",
       "    .dataframe tbody tr th:only-of-type {\n",
       "        vertical-align: middle;\n",
       "    }\n",
       "\n",
       "    .dataframe tbody tr th {\n",
       "        vertical-align: top;\n",
       "    }\n",
       "\n",
       "    .dataframe thead th {\n",
       "        text-align: right;\n",
       "    }\n",
       "</style>\n",
       "<table border=\"1\" class=\"dataframe\">\n",
       "  <thead>\n",
       "    <tr style=\"text-align: right;\">\n",
       "      <th></th>\n",
       "      <th>Date</th>\n",
       "      <th>MedianSoldPrice_AllHomes.California</th>\n",
       "      <th>MedianMortageRate</th>\n",
       "      <th>UnemploymentRate</th>\n",
       "      <th>MedianRentalPrice_AllHomes.California</th>\n",
       "    </tr>\n",
       "  </thead>\n",
       "  <tbody>\n",
       "    <tr>\n",
       "      <th>90</th>\n",
       "      <td>2011-07-31</td>\n",
       "      <td>308450.0</td>\n",
       "      <td>4.33</td>\n",
       "      <td>7.6</td>\n",
       "      <td>2000.0</td>\n",
       "    </tr>\n",
       "    <tr>\n",
       "      <th>91</th>\n",
       "      <td>2011-08-31</td>\n",
       "      <td>304150.0</td>\n",
       "      <td>4.06</td>\n",
       "      <td>7.9</td>\n",
       "      <td>1995.0</td>\n",
       "    </tr>\n",
       "    <tr>\n",
       "      <th>92</th>\n",
       "      <td>2011-09-30</td>\n",
       "      <td>298500.0</td>\n",
       "      <td>3.99</td>\n",
       "      <td>6.6</td>\n",
       "      <td>1910.0</td>\n",
       "    </tr>\n",
       "    <tr>\n",
       "      <th>93</th>\n",
       "      <td>2011-10-31</td>\n",
       "      <td>288100.0</td>\n",
       "      <td>4.00</td>\n",
       "      <td>6.7</td>\n",
       "      <td>1900.0</td>\n",
       "    </tr>\n",
       "  </tbody>\n",
       "</table>\n",
       "</div>"
      ],
      "text/plain": [
       "          Date  MedianSoldPrice_AllHomes.California  MedianMortageRate  \\\n",
       "90  2011-07-31                             308450.0               4.33   \n",
       "91  2011-08-31                             304150.0               4.06   \n",
       "92  2011-09-30                             298500.0               3.99   \n",
       "93  2011-10-31                             288100.0               4.00   \n",
       "\n",
       "    UnemploymentRate  MedianRentalPrice_AllHomes.California  \n",
       "90               7.6                                 2000.0  \n",
       "91               7.9                                 1995.0  \n",
       "92               6.6                                 1910.0  \n",
       "93               6.7                                 1900.0  "
      ]
     },
     "execution_count": 345,
     "metadata": {},
     "output_type": "execute_result"
    }
   ],
   "source": [
    "df_train[:4]"
   ]
  },
  {
   "cell_type": "code",
   "execution_count": 346,
   "metadata": {},
   "outputs": [
    {
     "data": {
      "text/html": [
       "<div>\n",
       "<style scoped>\n",
       "    .dataframe tbody tr th:only-of-type {\n",
       "        vertical-align: middle;\n",
       "    }\n",
       "\n",
       "    .dataframe tbody tr th {\n",
       "        vertical-align: top;\n",
       "    }\n",
       "\n",
       "    .dataframe thead th {\n",
       "        text-align: right;\n",
       "    }\n",
       "</style>\n",
       "<table border=\"1\" class=\"dataframe\">\n",
       "  <thead>\n",
       "    <tr style=\"text-align: right;\">\n",
       "      <th></th>\n",
       "      <th>Date</th>\n",
       "      <th>MedianSoldPrice</th>\n",
       "      <th>MedianMortageRate</th>\n",
       "      <th>UnemploymentRate</th>\n",
       "      <th>MedianRentalPrice</th>\n",
       "    </tr>\n",
       "  </thead>\n",
       "  <tbody>\n",
       "    <tr>\n",
       "      <th>90</th>\n",
       "      <td>2011-07-31</td>\n",
       "      <td>308450.0</td>\n",
       "      <td>4.33</td>\n",
       "      <td>7.6</td>\n",
       "      <td>2000.0</td>\n",
       "    </tr>\n",
       "  </tbody>\n",
       "</table>\n",
       "</div>"
      ],
      "text/plain": [
       "          Date  MedianSoldPrice  MedianMortageRate  UnemploymentRate  \\\n",
       "90  2011-07-31         308450.0               4.33               7.6   \n",
       "\n",
       "    MedianRentalPrice  \n",
       "90             2000.0  "
      ]
     },
     "execution_count": 346,
     "metadata": {},
     "output_type": "execute_result"
    }
   ],
   "source": [
    "df_train.columns = ['Date', 'MedianSoldPrice', 'MedianMortageRate', 'UnemploymentRate', 'MedianRentalPrice' ]\n",
    "df_train[:1]"
   ]
  },
  {
   "cell_type": "code",
   "execution_count": 347,
   "metadata": {},
   "outputs": [
    {
     "name": "stderr",
     "output_type": "stream",
     "text": [
      "/usr/local/lib/python3.7/site-packages/statsmodels/regression/linear_model.py:1648: RuntimeWarning: divide by zero encountered in true_divide\n",
      "  return 1 - (np.divide(self.nobs - self.k_constant, self.df_resid)\n",
      "/usr/local/lib/python3.7/site-packages/statsmodels/regression/linear_model.py:1649: RuntimeWarning: invalid value encountered in double_scalars\n",
      "  * (1 - self.rsquared))\n",
      "/usr/local/lib/python3.7/site-packages/statsmodels/regression/linear_model.py:1665: RuntimeWarning: divide by zero encountered in double_scalars\n",
      "  return self.ssr/self.df_resid\n",
      "/usr/local/lib/python3.7/site-packages/statsmodels/regression/linear_model.py:1578: RuntimeWarning: divide by zero encountered in double_scalars\n",
      "  return np.dot(wresid, wresid) / self.df_resid\n"
     ]
    },
    {
     "data": {
      "text/html": [
       "<table class=\"simpletable\">\n",
       "<caption>OLS Regression Results</caption>\n",
       "<tr>\n",
       "  <th>Dep. Variable:</th>    <td>MedianRentalPrice</td> <th>  R-squared:         </th> <td>   1.000</td>\n",
       "</tr>\n",
       "<tr>\n",
       "  <th>Model:</th>                   <td>OLS</td>        <th>  Adj. R-squared:    </th> <td>     nan</td>\n",
       "</tr>\n",
       "<tr>\n",
       "  <th>Method:</th>             <td>Least Squares</td>   <th>  F-statistic:       </th> <td>   0.000</td>\n",
       "</tr>\n",
       "<tr>\n",
       "  <th>Date:</th>             <td>Tue, 03 Dec 2019</td>  <th>  Prob (F-statistic):</th>  <td>   nan</td> \n",
       "</tr>\n",
       "<tr>\n",
       "  <th>Time:</th>                 <td>18:00:34</td>      <th>  Log-Likelihood:    </th> <td>  924.82</td>\n",
       "</tr>\n",
       "<tr>\n",
       "  <th>No. Observations:</th>      <td>    54</td>       <th>  AIC:               </th> <td>  -1742.</td>\n",
       "</tr>\n",
       "<tr>\n",
       "  <th>Df Residuals:</th>          <td>     0</td>       <th>  BIC:               </th> <td>  -1634.</td>\n",
       "</tr>\n",
       "<tr>\n",
       "  <th>Df Model:</th>              <td>    53</td>       <th>                     </th>     <td> </td>   \n",
       "</tr>\n",
       "<tr>\n",
       "  <th>Covariance Type:</th>      <td>nonrobust</td>     <th>                     </th>     <td> </td>   \n",
       "</tr>\n",
       "</table>\n",
       "<table class=\"simpletable\">\n",
       "<tr>\n",
       "           <td></td>             <th>coef</th>     <th>std err</th>      <th>t</th>      <th>P>|t|</th>  <th>[0.025</th>    <th>0.975]</th>  \n",
       "</tr>\n",
       "<tr>\n",
       "  <th>Intercept</th>          <td>  292.4288</td> <td>      inf</td> <td>        0</td> <td>   nan</td> <td>      nan</td> <td>      nan</td>\n",
       "</tr>\n",
       "<tr>\n",
       "  <th>Date[T.2011-08-31]</th> <td>  103.1810</td> <td>      inf</td> <td>        0</td> <td>   nan</td> <td>      nan</td> <td>      nan</td>\n",
       "</tr>\n",
       "<tr>\n",
       "  <th>Date[T.2011-09-30]</th> <td>    6.9823</td> <td>      inf</td> <td>        0</td> <td>   nan</td> <td>      nan</td> <td>      nan</td>\n",
       "</tr>\n",
       "<tr>\n",
       "  <th>Date[T.2011-10-31]</th> <td>   14.0812</td> <td>      inf</td> <td>        0</td> <td>   nan</td> <td>      nan</td> <td>      nan</td>\n",
       "</tr>\n",
       "<tr>\n",
       "  <th>Date[T.2011-11-30]</th> <td>   25.6964</td> <td>      inf</td> <td>        0</td> <td>   nan</td> <td>      nan</td> <td>      nan</td>\n",
       "</tr>\n",
       "<tr>\n",
       "  <th>Date[T.2011-12-31]</th> <td>   45.8655</td> <td>      inf</td> <td>        0</td> <td>   nan</td> <td>      nan</td> <td>      nan</td>\n",
       "</tr>\n",
       "<tr>\n",
       "  <th>Date[T.2012-01-31]</th> <td>   79.0111</td> <td>      inf</td> <td>        0</td> <td>   nan</td> <td>      nan</td> <td>      nan</td>\n",
       "</tr>\n",
       "<tr>\n",
       "  <th>Date[T.2012-02-29]</th> <td>   39.6522</td> <td>      inf</td> <td>        0</td> <td>   nan</td> <td>      nan</td> <td>      nan</td>\n",
       "</tr>\n",
       "<tr>\n",
       "  <th>Date[T.2012-03-31]</th> <td>   21.7155</td> <td>      inf</td> <td>        0</td> <td>   nan</td> <td>      nan</td> <td>      nan</td>\n",
       "</tr>\n",
       "<tr>\n",
       "  <th>Date[T.2012-04-30]</th> <td>  -12.4410</td> <td>      inf</td> <td>       -0</td> <td>   nan</td> <td>      nan</td> <td>      nan</td>\n",
       "</tr>\n",
       "<tr>\n",
       "  <th>Date[T.2012-05-31]</th> <td>  -24.9160</td> <td>      inf</td> <td>       -0</td> <td>   nan</td> <td>      nan</td> <td>      nan</td>\n",
       "</tr>\n",
       "<tr>\n",
       "  <th>Date[T.2012-06-30]</th> <td>   -4.2226</td> <td>      inf</td> <td>       -0</td> <td>   nan</td> <td>      nan</td> <td>      nan</td>\n",
       "</tr>\n",
       "<tr>\n",
       "  <th>Date[T.2012-07-31]</th> <td>   43.6912</td> <td>      inf</td> <td>        0</td> <td>   nan</td> <td>      nan</td> <td>      nan</td>\n",
       "</tr>\n",
       "<tr>\n",
       "  <th>Date[T.2012-08-31]</th> <td>   25.4750</td> <td>      inf</td> <td>        0</td> <td>   nan</td> <td>      nan</td> <td>      nan</td>\n",
       "</tr>\n",
       "<tr>\n",
       "  <th>Date[T.2012-09-30]</th> <td>  103.3398</td> <td>      inf</td> <td>        0</td> <td>   nan</td> <td>      nan</td> <td>      nan</td>\n",
       "</tr>\n",
       "<tr>\n",
       "  <th>Date[T.2012-10-31]</th> <td>   43.6554</td> <td>      inf</td> <td>        0</td> <td>   nan</td> <td>      nan</td> <td>      nan</td>\n",
       "</tr>\n",
       "<tr>\n",
       "  <th>Date[T.2012-11-30]</th> <td>   23.9190</td> <td>      inf</td> <td>        0</td> <td>   nan</td> <td>      nan</td> <td>      nan</td>\n",
       "</tr>\n",
       "<tr>\n",
       "  <th>Date[T.2012-12-31]</th> <td>  -19.0909</td> <td>      inf</td> <td>       -0</td> <td>   nan</td> <td>      nan</td> <td>      nan</td>\n",
       "</tr>\n",
       "<tr>\n",
       "  <th>Date[T.2013-01-31]</th> <td>  -32.6678</td> <td>      inf</td> <td>       -0</td> <td>   nan</td> <td>      nan</td> <td>      nan</td>\n",
       "</tr>\n",
       "<tr>\n",
       "  <th>Date[T.2013-02-28]</th> <td>    3.3532</td> <td>      inf</td> <td>        0</td> <td>   nan</td> <td>      nan</td> <td>      nan</td>\n",
       "</tr>\n",
       "<tr>\n",
       "  <th>Date[T.2013-03-31]</th> <td>  -19.2249</td> <td>      inf</td> <td>       -0</td> <td>   nan</td> <td>      nan</td> <td>      nan</td>\n",
       "</tr>\n",
       "<tr>\n",
       "  <th>Date[T.2013-04-30]</th> <td>    8.1568</td> <td>      inf</td> <td>        0</td> <td>   nan</td> <td>      nan</td> <td>      nan</td>\n",
       "</tr>\n",
       "<tr>\n",
       "  <th>Date[T.2013-05-31]</th> <td> -213.4541</td> <td>      inf</td> <td>       -0</td> <td>   nan</td> <td>      nan</td> <td>      nan</td>\n",
       "</tr>\n",
       "<tr>\n",
       "  <th>Date[T.2013-06-30]</th> <td> -388.4402</td> <td>      inf</td> <td>       -0</td> <td>   nan</td> <td>      nan</td> <td>      nan</td>\n",
       "</tr>\n",
       "<tr>\n",
       "  <th>Date[T.2013-07-31]</th> <td> -396.9455</td> <td>      inf</td> <td>       -0</td> <td>   nan</td> <td>      nan</td> <td>      nan</td>\n",
       "</tr>\n",
       "<tr>\n",
       "  <th>Date[T.2013-08-31]</th> <td> -473.8451</td> <td>      inf</td> <td>       -0</td> <td>   nan</td> <td>      nan</td> <td>      nan</td>\n",
       "</tr>\n",
       "<tr>\n",
       "  <th>Date[T.2013-09-30]</th> <td> -295.0236</td> <td>      inf</td> <td>       -0</td> <td>   nan</td> <td>      nan</td> <td>      nan</td>\n",
       "</tr>\n",
       "<tr>\n",
       "  <th>Date[T.2013-10-31]</th> <td> -165.2290</td> <td>      inf</td> <td>       -0</td> <td>   nan</td> <td>      nan</td> <td>      nan</td>\n",
       "</tr>\n",
       "<tr>\n",
       "  <th>Date[T.2013-11-30]</th> <td> -321.1483</td> <td>      inf</td> <td>       -0</td> <td>   nan</td> <td>      nan</td> <td>      nan</td>\n",
       "</tr>\n",
       "<tr>\n",
       "  <th>Date[T.2013-12-31]</th> <td> -294.5019</td> <td>      inf</td> <td>       -0</td> <td>   nan</td> <td>      nan</td> <td>      nan</td>\n",
       "</tr>\n",
       "<tr>\n",
       "  <th>Date[T.2014-01-31]</th> <td> -166.4857</td> <td>      inf</td> <td>       -0</td> <td>   nan</td> <td>      nan</td> <td>      nan</td>\n",
       "</tr>\n",
       "<tr>\n",
       "  <th>Date[T.2014-02-28]</th> <td> -215.7899</td> <td>      inf</td> <td>       -0</td> <td>   nan</td> <td>      nan</td> <td>      nan</td>\n",
       "</tr>\n",
       "<tr>\n",
       "  <th>Date[T.2014-03-31]</th> <td> -260.8437</td> <td>      inf</td> <td>       -0</td> <td>   nan</td> <td>      nan</td> <td>      nan</td>\n",
       "</tr>\n",
       "<tr>\n",
       "  <th>Date[T.2014-04-30]</th> <td> -253.1696</td> <td>      inf</td> <td>       -0</td> <td>   nan</td> <td>      nan</td> <td>      nan</td>\n",
       "</tr>\n",
       "<tr>\n",
       "  <th>Date[T.2014-05-31]</th> <td>  -69.3434</td> <td>      inf</td> <td>       -0</td> <td>   nan</td> <td>      nan</td> <td>      nan</td>\n",
       "</tr>\n",
       "<tr>\n",
       "  <th>Date[T.2014-06-30]</th> <td>  -98.4302</td> <td>      inf</td> <td>       -0</td> <td>   nan</td> <td>      nan</td> <td>      nan</td>\n",
       "</tr>\n",
       "<tr>\n",
       "  <th>Date[T.2014-07-31]</th> <td> -100.7710</td> <td>      inf</td> <td>       -0</td> <td>   nan</td> <td>      nan</td> <td>      nan</td>\n",
       "</tr>\n",
       "<tr>\n",
       "  <th>Date[T.2014-08-31]</th> <td>  -20.7411</td> <td>      inf</td> <td>       -0</td> <td>   nan</td> <td>      nan</td> <td>      nan</td>\n",
       "</tr>\n",
       "<tr>\n",
       "  <th>Date[T.2014-09-30]</th> <td>  -50.5212</td> <td>      inf</td> <td>       -0</td> <td>   nan</td> <td>      nan</td> <td>      nan</td>\n",
       "</tr>\n",
       "<tr>\n",
       "  <th>Date[T.2014-10-31]</th> <td>  -22.1102</td> <td>      inf</td> <td>       -0</td> <td>   nan</td> <td>      nan</td> <td>      nan</td>\n",
       "</tr>\n",
       "<tr>\n",
       "  <th>Date[T.2014-11-30]</th> <td>   44.5683</td> <td>      inf</td> <td>        0</td> <td>   nan</td> <td>      nan</td> <td>      nan</td>\n",
       "</tr>\n",
       "<tr>\n",
       "  <th>Date[T.2014-12-31]</th> <td>   73.3085</td> <td>      inf</td> <td>        0</td> <td>   nan</td> <td>      nan</td> <td>      nan</td>\n",
       "</tr>\n",
       "<tr>\n",
       "  <th>Date[T.2015-01-31]</th> <td>   55.9031</td> <td>      inf</td> <td>        0</td> <td>   nan</td> <td>      nan</td> <td>      nan</td>\n",
       "</tr>\n",
       "<tr>\n",
       "  <th>Date[T.2015-02-28]</th> <td>   42.1415</td> <td>      inf</td> <td>        0</td> <td>   nan</td> <td>      nan</td> <td>      nan</td>\n",
       "</tr>\n",
       "<tr>\n",
       "  <th>Date[T.2015-03-31]</th> <td>   65.2174</td> <td>      inf</td> <td>        0</td> <td>   nan</td> <td>      nan</td> <td>      nan</td>\n",
       "</tr>\n",
       "<tr>\n",
       "  <th>Date[T.2015-04-30]</th> <td>  164.8200</td> <td>      inf</td> <td>        0</td> <td>   nan</td> <td>      nan</td> <td>      nan</td>\n",
       "</tr>\n",
       "<tr>\n",
       "  <th>Date[T.2015-05-31]</th> <td>  117.2162</td> <td>      inf</td> <td>        0</td> <td>   nan</td> <td>      nan</td> <td>      nan</td>\n",
       "</tr>\n",
       "<tr>\n",
       "  <th>Date[T.2015-06-30]</th> <td>  136.5998</td> <td>      inf</td> <td>        0</td> <td>   nan</td> <td>      nan</td> <td>      nan</td>\n",
       "</tr>\n",
       "<tr>\n",
       "  <th>Date[T.2015-07-31]</th> <td>  145.3501</td> <td>      inf</td> <td>        0</td> <td>   nan</td> <td>      nan</td> <td>      nan</td>\n",
       "</tr>\n",
       "<tr>\n",
       "  <th>Date[T.2015-08-31]</th> <td>  176.1269</td> <td>      inf</td> <td>        0</td> <td>   nan</td> <td>      nan</td> <td>      nan</td>\n",
       "</tr>\n",
       "<tr>\n",
       "  <th>Date[T.2015-09-30]</th> <td>  204.3648</td> <td>      inf</td> <td>        0</td> <td>   nan</td> <td>      nan</td> <td>      nan</td>\n",
       "</tr>\n",
       "<tr>\n",
       "  <th>Date[T.2015-10-31]</th> <td>  248.5630</td> <td>      inf</td> <td>        0</td> <td>   nan</td> <td>      nan</td> <td>      nan</td>\n",
       "</tr>\n",
       "<tr>\n",
       "  <th>Date[T.2015-11-30]</th> <td>  179.5711</td> <td>      inf</td> <td>        0</td> <td>   nan</td> <td>      nan</td> <td>      nan</td>\n",
       "</tr>\n",
       "<tr>\n",
       "  <th>Date[T.2015-12-31]</th> <td>  168.5417</td> <td>      inf</td> <td>        0</td> <td>   nan</td> <td>      nan</td> <td>      nan</td>\n",
       "</tr>\n",
       "<tr>\n",
       "  <th>MedianSoldPrice</th>    <td>    0.0016</td> <td>      inf</td> <td>        0</td> <td>   nan</td> <td>      nan</td> <td>      nan</td>\n",
       "</tr>\n",
       "<tr>\n",
       "  <th>MedianMortageRate</th>  <td>  336.8617</td> <td>      inf</td> <td>        0</td> <td>   nan</td> <td>      nan</td> <td>      nan</td>\n",
       "</tr>\n",
       "<tr>\n",
       "  <th>UnemploymentRate</th>   <td>  -33.8902</td> <td>      inf</td> <td>       -0</td> <td>   nan</td> <td>      nan</td> <td>      nan</td>\n",
       "</tr>\n",
       "</table>\n",
       "<table class=\"simpletable\">\n",
       "<tr>\n",
       "  <th>Omnibus:</th>       <td> 0.311</td> <th>  Durbin-Watson:     </th> <td>   1.099</td>\n",
       "</tr>\n",
       "<tr>\n",
       "  <th>Prob(Omnibus):</th> <td> 0.856</td> <th>  Jarque-Bera (JB):  </th> <td>   0.167</td>\n",
       "</tr>\n",
       "<tr>\n",
       "  <th>Skew:</th>          <td>-0.135</td> <th>  Prob(JB):          </th> <td>   0.920</td>\n",
       "</tr>\n",
       "<tr>\n",
       "  <th>Kurtosis:</th>      <td> 2.957</td> <th>  Cond. No.          </th> <td>8.38e+06</td>\n",
       "</tr>\n",
       "</table><br/><br/>Warnings:<br/>[1] Standard Errors assume that the covariance matrix of the errors is correctly specified.<br/>[2] The input rank is higher than the number of observations.<br/>[3] The condition number is large, 8.38e+06. This might indicate that there are<br/>strong multicollinearity or other numerical problems."
      ],
      "text/plain": [
       "<class 'statsmodels.iolib.summary.Summary'>\n",
       "\"\"\"\n",
       "                            OLS Regression Results                            \n",
       "==============================================================================\n",
       "Dep. Variable:      MedianRentalPrice   R-squared:                       1.000\n",
       "Model:                            OLS   Adj. R-squared:                    nan\n",
       "Method:                 Least Squares   F-statistic:                     0.000\n",
       "Date:                Tue, 03 Dec 2019   Prob (F-statistic):                nan\n",
       "Time:                        18:00:34   Log-Likelihood:                 924.82\n",
       "No. Observations:                  54   AIC:                            -1742.\n",
       "Df Residuals:                       0   BIC:                            -1634.\n",
       "Df Model:                          53                                         \n",
       "Covariance Type:            nonrobust                                         \n",
       "======================================================================================\n",
       "                         coef    std err          t      P>|t|      [0.025      0.975]\n",
       "--------------------------------------------------------------------------------------\n",
       "Intercept            292.4288        inf          0        nan         nan         nan\n",
       "Date[T.2011-08-31]   103.1810        inf          0        nan         nan         nan\n",
       "Date[T.2011-09-30]     6.9823        inf          0        nan         nan         nan\n",
       "Date[T.2011-10-31]    14.0812        inf          0        nan         nan         nan\n",
       "Date[T.2011-11-30]    25.6964        inf          0        nan         nan         nan\n",
       "Date[T.2011-12-31]    45.8655        inf          0        nan         nan         nan\n",
       "Date[T.2012-01-31]    79.0111        inf          0        nan         nan         nan\n",
       "Date[T.2012-02-29]    39.6522        inf          0        nan         nan         nan\n",
       "Date[T.2012-03-31]    21.7155        inf          0        nan         nan         nan\n",
       "Date[T.2012-04-30]   -12.4410        inf         -0        nan         nan         nan\n",
       "Date[T.2012-05-31]   -24.9160        inf         -0        nan         nan         nan\n",
       "Date[T.2012-06-30]    -4.2226        inf         -0        nan         nan         nan\n",
       "Date[T.2012-07-31]    43.6912        inf          0        nan         nan         nan\n",
       "Date[T.2012-08-31]    25.4750        inf          0        nan         nan         nan\n",
       "Date[T.2012-09-30]   103.3398        inf          0        nan         nan         nan\n",
       "Date[T.2012-10-31]    43.6554        inf          0        nan         nan         nan\n",
       "Date[T.2012-11-30]    23.9190        inf          0        nan         nan         nan\n",
       "Date[T.2012-12-31]   -19.0909        inf         -0        nan         nan         nan\n",
       "Date[T.2013-01-31]   -32.6678        inf         -0        nan         nan         nan\n",
       "Date[T.2013-02-28]     3.3532        inf          0        nan         nan         nan\n",
       "Date[T.2013-03-31]   -19.2249        inf         -0        nan         nan         nan\n",
       "Date[T.2013-04-30]     8.1568        inf          0        nan         nan         nan\n",
       "Date[T.2013-05-31]  -213.4541        inf         -0        nan         nan         nan\n",
       "Date[T.2013-06-30]  -388.4402        inf         -0        nan         nan         nan\n",
       "Date[T.2013-07-31]  -396.9455        inf         -0        nan         nan         nan\n",
       "Date[T.2013-08-31]  -473.8451        inf         -0        nan         nan         nan\n",
       "Date[T.2013-09-30]  -295.0236        inf         -0        nan         nan         nan\n",
       "Date[T.2013-10-31]  -165.2290        inf         -0        nan         nan         nan\n",
       "Date[T.2013-11-30]  -321.1483        inf         -0        nan         nan         nan\n",
       "Date[T.2013-12-31]  -294.5019        inf         -0        nan         nan         nan\n",
       "Date[T.2014-01-31]  -166.4857        inf         -0        nan         nan         nan\n",
       "Date[T.2014-02-28]  -215.7899        inf         -0        nan         nan         nan\n",
       "Date[T.2014-03-31]  -260.8437        inf         -0        nan         nan         nan\n",
       "Date[T.2014-04-30]  -253.1696        inf         -0        nan         nan         nan\n",
       "Date[T.2014-05-31]   -69.3434        inf         -0        nan         nan         nan\n",
       "Date[T.2014-06-30]   -98.4302        inf         -0        nan         nan         nan\n",
       "Date[T.2014-07-31]  -100.7710        inf         -0        nan         nan         nan\n",
       "Date[T.2014-08-31]   -20.7411        inf         -0        nan         nan         nan\n",
       "Date[T.2014-09-30]   -50.5212        inf         -0        nan         nan         nan\n",
       "Date[T.2014-10-31]   -22.1102        inf         -0        nan         nan         nan\n",
       "Date[T.2014-11-30]    44.5683        inf          0        nan         nan         nan\n",
       "Date[T.2014-12-31]    73.3085        inf          0        nan         nan         nan\n",
       "Date[T.2015-01-31]    55.9031        inf          0        nan         nan         nan\n",
       "Date[T.2015-02-28]    42.1415        inf          0        nan         nan         nan\n",
       "Date[T.2015-03-31]    65.2174        inf          0        nan         nan         nan\n",
       "Date[T.2015-04-30]   164.8200        inf          0        nan         nan         nan\n",
       "Date[T.2015-05-31]   117.2162        inf          0        nan         nan         nan\n",
       "Date[T.2015-06-30]   136.5998        inf          0        nan         nan         nan\n",
       "Date[T.2015-07-31]   145.3501        inf          0        nan         nan         nan\n",
       "Date[T.2015-08-31]   176.1269        inf          0        nan         nan         nan\n",
       "Date[T.2015-09-30]   204.3648        inf          0        nan         nan         nan\n",
       "Date[T.2015-10-31]   248.5630        inf          0        nan         nan         nan\n",
       "Date[T.2015-11-30]   179.5711        inf          0        nan         nan         nan\n",
       "Date[T.2015-12-31]   168.5417        inf          0        nan         nan         nan\n",
       "MedianSoldPrice        0.0016        inf          0        nan         nan         nan\n",
       "MedianMortageRate    336.8617        inf          0        nan         nan         nan\n",
       "UnemploymentRate     -33.8902        inf         -0        nan         nan         nan\n",
       "==============================================================================\n",
       "Omnibus:                        0.311   Durbin-Watson:                   1.099\n",
       "Prob(Omnibus):                  0.856   Jarque-Bera (JB):                0.167\n",
       "Skew:                          -0.135   Prob(JB):                        0.920\n",
       "Kurtosis:                       2.957   Cond. No.                     8.38e+06\n",
       "==============================================================================\n",
       "\n",
       "Warnings:\n",
       "[1] Standard Errors assume that the covariance matrix of the errors is correctly specified.\n",
       "[2] The input rank is higher than the number of observations.\n",
       "[3] The condition number is large, 8.38e+06. This might indicate that there are\n",
       "strong multicollinearity or other numerical problems.\n",
       "\"\"\""
      ]
     },
     "execution_count": 347,
     "metadata": {},
     "output_type": "execute_result"
    }
   ],
   "source": [
    "import statsmodels.api as sm\n",
    "from statsmodels.formula.api import ols\n",
    "\n",
    "lr_model = ols('MedianRentalPrice ~ Date + MedianSoldPrice + MedianMortageRate + UnemploymentRate', df_train).fit()\n",
    "\n",
    "lr_model.summary()"
   ]
  },
  {
   "cell_type": "code",
   "execution_count": null,
   "metadata": {},
   "outputs": [],
   "source": []
  }
 ],
 "metadata": {
  "kernelspec": {
   "display_name": "Python 3",
   "language": "python",
   "name": "python3"
  },
  "language_info": {
   "codemirror_mode": {
    "name": "ipython",
    "version": 3
   },
   "file_extension": ".py",
   "mimetype": "text/x-python",
   "name": "python",
   "nbconvert_exporter": "python",
   "pygments_lexer": "ipython3",
   "version": "3.7.5"
  },
  "varInspector": {
   "cols": {
    "lenName": 16,
    "lenType": 16,
    "lenVar": 40
   },
   "kernels_config": {
    "python": {
     "delete_cmd_postfix": "",
     "delete_cmd_prefix": "del ",
     "library": "var_list.py",
     "varRefreshCmd": "print(var_dic_list())"
    },
    "r": {
     "delete_cmd_postfix": ") ",
     "delete_cmd_prefix": "rm(",
     "library": "var_list.r",
     "varRefreshCmd": "cat(var_dic_list()) "
    }
   },
   "types_to_exclude": [
    "module",
    "function",
    "builtin_function_or_method",
    "instance",
    "_Feature"
   ],
   "window_display": false
  }
 },
 "nbformat": 4,
 "nbformat_minor": 2
}
